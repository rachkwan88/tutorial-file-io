{
 "cells": [
  {
   "cell_type": "code",
   "execution_count": 1,
   "metadata": {},
   "outputs": [],
   "source": [
    "import random"
   ]
  },
  {
   "cell_type": "code",
   "execution_count": 13,
   "metadata": {},
   "outputs": [],
   "source": [
    "# create some data and store it in a list\n",
    "\n",
    "students =[]\n",
    "#create an empty list\n",
    "\n",
    "students.append({\"name\": \"Priscilla Lee\" , \"weight\": str(random.randint(50,101)), \"height\": str(random.randint(150,201))})\n",
    "students.append({\"name\": \"Thomas Kwan\" , \"weight\": str(random.randint(50,101)), \"height\": str(random.randint(150,201))})\n",
    "students.append({\"name\": \"Donald Trump\" , \"weight\": str(random.randint(50,101)), \"height\": str(random.randint(150,201))})\n",
    "students.append({\"name\": \"Carrot\" , \"weight\": str(random.randint(50,101)), \"height\": str(random.randint(150,201))})\n",
    "students.append({\"name\": \"Potato\" , \"weight\": str(random.randint(50,101)), \"height\": str(random.randint(150,201))})\n",
    "students.append({\"name\": \"Joe Biden\" , \"weight\": str(random.randint(50,101)), \"height\": str(random.randint(150,201))})\n",
    "students.append({\"name\": \"Obama\" , \"weight\": str(random.randint(50,101)), \"height\": str(random.randint(150,201))})\n",
    "students.append({\"name\": \"Jacky Chan\" , \"weight\": str(random.randint(50,101)), \"height\": str(random.randint(150,201))})\n",
    "students.append({\"name\": \"Tomato\" , \"weight\": str(random.randint(50,101)), \"height\": str(random.randint(150,201))})\n",
    "students.append({\"name\": \"Onion\" , \"weight\": str(random.randint(50,101)), \"height\": str(random.randint(150,201))})\n",
    "students.append({\"name\": \"Rachel\" , \"weight\": str(random.randint(50,101)), \"height\": str(random.randint(150,201))})\n"
   ]
  },
  {
   "cell_type": "code",
   "execution_count": 3,
   "metadata": {},
   "outputs": [
    {
     "name": "stdout",
     "output_type": "stream",
     "text": [
      "[{'name': 'Priscilla Lee', 'weight': '85', 'height': '198'}, {'name': 'Thomas Kwan', 'weight': '77', 'height': '161'}, {'name': 'Donald Trump', 'weight': '82', 'height': '197'}, {'name': 'Carrot', 'weight': '54', 'height': '160'}, {'name': 'Potato', 'weight': '87', 'height': '168'}, {'name': 'Joe Biden', 'weight': '84', 'height': '196'}, {'name': 'Obama', 'weight': '81', 'height': '181'}, {'name': 'Jacky Chan', 'weight': '98', 'height': '163'}, {'name': 'Tomato', 'weight': '77', 'height': '192'}, {'name': 'Onion', 'weight': '56', 'height': '150'}, {'name': 'Rachel', 'weight': '64', 'height': '157'}]\n"
     ]
    }
   ],
   "source": [
    "print(students)"
   ]
  },
  {
   "cell_type": "code",
   "execution_count": 9,
   "metadata": {},
   "outputs": [
    {
     "name": "stdout",
     "output_type": "stream",
     "text": [
      "The average height is 174.8181818181818\n"
     ]
    }
   ],
   "source": [
    "total = 0\n",
    "for student in students:\n",
    "    total+=int(student[\"height\"])\n",
    "average = total/len(students)\n",
    "print(\"The average height is \" + str(average))"
   ]
  },
  {
   "cell_type": "code",
   "execution_count": 15,
   "metadata": {},
   "outputs": [
    {
     "data": {
      "image/png": "[encoded data removed]",
      "text/plain": [
       "<Figure size 640x480 with 1 Axes>"
      ]
     },
     "metadata": {},
     "output_type": "display_data"
    }
   ],
   "source": [
    "#use math lab plot to graph the average height in a histogram\n",
    "\n",
    "import matplotlib.pyplot as plt\n",
    "import numpy as np\n",
    "\n",
    "heights = []\n",
    "for student in students:\n",
    "    heights.append(int(student[\"height\"]))\n",
    "plt.hist(heights)\n",
    "plt.title(\"Height of Students\")\n",
    "plt.xlabel(\"Height\")\n",
    "plt.ylabel(\"Number of Students\")\n",
    "plt.show()\n"
   ]
  },
  {
   "cell_type": "code",
   "execution_count": 16,
   "metadata": {},
   "outputs": [],
   "source": [
    "# create a csv file with the data\n",
    "import csv\n",
    "with open(\"students.csv\", \"w\", newline=\"\") as csvfile:\n",
    "    fieldnames = [\"name\", \"weight\", \"height\"]\n",
    "    writer = csv.DictWriter(csvfile, fieldnames=fieldnames)\n",
    "    writer.writeheader()\n",
    "    for student in students:\n",
    "        writer.writerow(student)\n"
   ]
  },
  {
   "cell_type": "code",
   "execution_count": 37,
   "metadata": {},
   "outputs": [],
   "source": [
    "# create a json file called students.json\n",
    "import json\n",
    "with open(\"students.json\", \"w\") as jsonfile:\n",
    "    json.dump(students, jsonfile)"
   ]
  },
  {
   "cell_type": "code",
   "execution_count": 36,
   "metadata": {},
   "outputs": [
    {
     "name": "stdout",
     "output_type": "stream",
     "text": [
      "Priscilla Lee 177\n",
      "Thomas Kwan 181\n",
      "Donald Trump 188\n",
      "Carrot 179\n",
      "Potato 179\n",
      "Joe Biden 197\n",
      "Obama 181\n",
      "Jacky Chan 169\n",
      "Tomato 168\n",
      "Onion 197\n",
      "Rachel 173\n"
     ]
    }
   ],
   "source": [
    "with open(\"students.csv\",\"r\") as file:\n",
    "    linenumber = 0\n",
    "    for line in file:\n",
    "        data = line.rstrip()\n",
    "        tokens = data.split(\",\")\n",
    "        linenumber +=1\n",
    "        if linenumber == 1:\n",
    "            continue\n",
    "        print(tokens[0],str(tokens[2]))\n",
    "    "
   ]
  },
  {
   "cell_type": "code",
   "execution_count": 52,
   "metadata": {},
   "outputs": [
    {
     "name": "stdout",
     "output_type": "stream",
     "text": [
      "Priscilla Lee 177\n",
      "Thomas Kwan 181\n",
      "Dctald Trump 188\n",
      "Carrot 179\n",
      "Potato 179\n",
      "Cayo 179\n",
      "Joe Biden 197\n",
      "Obama 181\n",
      "Jacky Chan 169\n",
      "Tomato 168\n",
      "ctict 197\n",
      "Rachel 173\n"
     ]
    }
   ],
   "source": [
    "import re # regular expression\n",
    "with open(\"students.json\", \"r\") as jsonfile:\n",
    "    students2 = json.load(jsonfile)\n",
    "for student in students2:\n",
    "    #first, check to see if there is on in the name, no matter upper or lower case and then replace on with ct\n",
    "\n",
    "# Assuming student is a dictionary with a \"name\" key\n",
    "    if \"on\" in student[\"name\"].lower():\n",
    "        # Using a regular expression for case-insensitive replacement\n",
    "        student[\"name\"] = re.sub(r'on', 'ct', student[\"name\"], flags=re.IGNORECASE)\n",
    "    print(student[\"name\"], student[\"height\"])"
   ]
  }
 ],
 "metadata": {
  "kernelspec": {
   "display_name": "Python 3",
   "language": "python",
   "name": "python3"
  },
  "language_info": {
   "codemirror_mode": {
    "name": "ipython",
    "version": 3
   },
   "file_extension": ".py",
   "mimetype": "text/x-python",
   "name": "python",
   "nbconvert_exporter": "python",
   "pygments_lexer": "ipython3",
   "version": "3.9.6"
  }
 },
 "nbformat": 4,
 "nbformat_minor": 2
}
